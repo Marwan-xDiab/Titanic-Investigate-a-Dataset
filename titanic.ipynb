{
 "cells": [
  {
   "cell_type": "markdown",
   "id": "d226f48b",
   "metadata": {},
   "source": [
    "#  Titanic Dataset Project"
   ]
  },
  {
   "cell_type": "code",
   "execution_count": 230,
   "id": "6a3bb3a5",
   "metadata": {},
   "outputs": [],
   "source": [
    "#need to install (pandas,numpy,matplotlib,seaborn)\n",
    "import numpy as np\n",
    "import pandas as pd\n",
    "import matplotlib.pyplot as plt\n",
    "import seaborn as sns"
   ]
  },
  {
   "cell_type": "code",
   "execution_count": 231,
   "id": "e1fa6e97",
   "metadata": {
    "scrolled": true
   },
   "outputs": [
    {
     "data": {
      "text/html": [
       "<div>\n",
       "<style scoped>\n",
       "    .dataframe tbody tr th:only-of-type {\n",
       "        vertical-align: middle;\n",
       "    }\n",
       "\n",
       "    .dataframe tbody tr th {\n",
       "        vertical-align: top;\n",
       "    }\n",
       "\n",
       "    .dataframe thead th {\n",
       "        text-align: right;\n",
       "    }\n",
       "</style>\n",
       "<table border=\"1\" class=\"dataframe\">\n",
       "  <thead>\n",
       "    <tr style=\"text-align: right;\">\n",
       "      <th></th>\n",
       "      <th>Survived</th>\n",
       "      <th>Pclass</th>\n",
       "      <th>Name</th>\n",
       "      <th>Sex</th>\n",
       "      <th>Age</th>\n",
       "      <th>SibSp</th>\n",
       "      <th>Parch</th>\n",
       "      <th>Ticket</th>\n",
       "      <th>Fare</th>\n",
       "      <th>Cabin</th>\n",
       "      <th>Embarked</th>\n",
       "    </tr>\n",
       "    <tr>\n",
       "      <th>PassengerId</th>\n",
       "      <th></th>\n",
       "      <th></th>\n",
       "      <th></th>\n",
       "      <th></th>\n",
       "      <th></th>\n",
       "      <th></th>\n",
       "      <th></th>\n",
       "      <th></th>\n",
       "      <th></th>\n",
       "      <th></th>\n",
       "      <th></th>\n",
       "    </tr>\n",
       "  </thead>\n",
       "  <tbody>\n",
       "    <tr>\n",
       "      <th>108</th>\n",
       "      <td>1</td>\n",
       "      <td>3</td>\n",
       "      <td>Moss, Mr. Albert Johan</td>\n",
       "      <td>male</td>\n",
       "      <td>NaN</td>\n",
       "      <td>0</td>\n",
       "      <td>0</td>\n",
       "      <td>312991</td>\n",
       "      <td>7.7750</td>\n",
       "      <td>NaN</td>\n",
       "      <td>S</td>\n",
       "    </tr>\n",
       "    <tr>\n",
       "      <th>813</th>\n",
       "      <td>0</td>\n",
       "      <td>2</td>\n",
       "      <td>Slemen, Mr. Richard James</td>\n",
       "      <td>male</td>\n",
       "      <td>35.00</td>\n",
       "      <td>0</td>\n",
       "      <td>0</td>\n",
       "      <td>28206</td>\n",
       "      <td>10.5000</td>\n",
       "      <td>NaN</td>\n",
       "      <td>S</td>\n",
       "    </tr>\n",
       "    <tr>\n",
       "      <th>384</th>\n",
       "      <td>1</td>\n",
       "      <td>1</td>\n",
       "      <td>Holverson, Mrs. Alexander Oskar (Mary Aline To...</td>\n",
       "      <td>female</td>\n",
       "      <td>35.00</td>\n",
       "      <td>1</td>\n",
       "      <td>0</td>\n",
       "      <td>113789</td>\n",
       "      <td>52.0000</td>\n",
       "      <td>NaN</td>\n",
       "      <td>S</td>\n",
       "    </tr>\n",
       "    <tr>\n",
       "      <th>227</th>\n",
       "      <td>1</td>\n",
       "      <td>2</td>\n",
       "      <td>Mellors, Mr. William John</td>\n",
       "      <td>male</td>\n",
       "      <td>19.00</td>\n",
       "      <td>0</td>\n",
       "      <td>0</td>\n",
       "      <td>SW/PP 751</td>\n",
       "      <td>10.5000</td>\n",
       "      <td>NaN</td>\n",
       "      <td>S</td>\n",
       "    </tr>\n",
       "    <tr>\n",
       "      <th>29</th>\n",
       "      <td>1</td>\n",
       "      <td>3</td>\n",
       "      <td>O'Dwyer, Miss. Ellen \"Nellie\"</td>\n",
       "      <td>female</td>\n",
       "      <td>NaN</td>\n",
       "      <td>0</td>\n",
       "      <td>0</td>\n",
       "      <td>330959</td>\n",
       "      <td>7.8792</td>\n",
       "      <td>NaN</td>\n",
       "      <td>Q</td>\n",
       "    </tr>\n",
       "    <tr>\n",
       "      <th>452</th>\n",
       "      <td>0</td>\n",
       "      <td>3</td>\n",
       "      <td>Hagland, Mr. Ingvald Olai Olsen</td>\n",
       "      <td>male</td>\n",
       "      <td>NaN</td>\n",
       "      <td>1</td>\n",
       "      <td>0</td>\n",
       "      <td>65303</td>\n",
       "      <td>19.9667</td>\n",
       "      <td>NaN</td>\n",
       "      <td>S</td>\n",
       "    </tr>\n",
       "    <tr>\n",
       "      <th>508</th>\n",
       "      <td>1</td>\n",
       "      <td>1</td>\n",
       "      <td>Bradley, Mr. George (\"George Arthur Brayton\")</td>\n",
       "      <td>male</td>\n",
       "      <td>NaN</td>\n",
       "      <td>0</td>\n",
       "      <td>0</td>\n",
       "      <td>111427</td>\n",
       "      <td>26.5500</td>\n",
       "      <td>NaN</td>\n",
       "      <td>S</td>\n",
       "    </tr>\n",
       "    <tr>\n",
       "      <th>640</th>\n",
       "      <td>0</td>\n",
       "      <td>3</td>\n",
       "      <td>Thorneycroft, Mr. Percival</td>\n",
       "      <td>male</td>\n",
       "      <td>NaN</td>\n",
       "      <td>1</td>\n",
       "      <td>0</td>\n",
       "      <td>376564</td>\n",
       "      <td>16.1000</td>\n",
       "      <td>NaN</td>\n",
       "      <td>S</td>\n",
       "    </tr>\n",
       "    <tr>\n",
       "      <th>814</th>\n",
       "      <td>0</td>\n",
       "      <td>3</td>\n",
       "      <td>Andersson, Miss. Ebba Iris Alfrida</td>\n",
       "      <td>female</td>\n",
       "      <td>6.00</td>\n",
       "      <td>4</td>\n",
       "      <td>2</td>\n",
       "      <td>347082</td>\n",
       "      <td>31.2750</td>\n",
       "      <td>NaN</td>\n",
       "      <td>S</td>\n",
       "    </tr>\n",
       "    <tr>\n",
       "      <th>779</th>\n",
       "      <td>0</td>\n",
       "      <td>3</td>\n",
       "      <td>Kilgannon, Mr. Thomas J</td>\n",
       "      <td>male</td>\n",
       "      <td>NaN</td>\n",
       "      <td>0</td>\n",
       "      <td>0</td>\n",
       "      <td>36865</td>\n",
       "      <td>7.7375</td>\n",
       "      <td>NaN</td>\n",
       "      <td>Q</td>\n",
       "    </tr>\n",
       "    <tr>\n",
       "      <th>522</th>\n",
       "      <td>0</td>\n",
       "      <td>3</td>\n",
       "      <td>Vovk, Mr. Janko</td>\n",
       "      <td>male</td>\n",
       "      <td>22.00</td>\n",
       "      <td>0</td>\n",
       "      <td>0</td>\n",
       "      <td>349252</td>\n",
       "      <td>7.8958</td>\n",
       "      <td>NaN</td>\n",
       "      <td>S</td>\n",
       "    </tr>\n",
       "    <tr>\n",
       "      <th>887</th>\n",
       "      <td>0</td>\n",
       "      <td>2</td>\n",
       "      <td>Montvila, Rev. Juozas</td>\n",
       "      <td>male</td>\n",
       "      <td>27.00</td>\n",
       "      <td>0</td>\n",
       "      <td>0</td>\n",
       "      <td>211536</td>\n",
       "      <td>13.0000</td>\n",
       "      <td>NaN</td>\n",
       "      <td>S</td>\n",
       "    </tr>\n",
       "    <tr>\n",
       "      <th>295</th>\n",
       "      <td>0</td>\n",
       "      <td>3</td>\n",
       "      <td>Mineff, Mr. Ivan</td>\n",
       "      <td>male</td>\n",
       "      <td>24.00</td>\n",
       "      <td>0</td>\n",
       "      <td>0</td>\n",
       "      <td>349233</td>\n",
       "      <td>7.8958</td>\n",
       "      <td>NaN</td>\n",
       "      <td>S</td>\n",
       "    </tr>\n",
       "    <tr>\n",
       "      <th>349</th>\n",
       "      <td>1</td>\n",
       "      <td>3</td>\n",
       "      <td>Coutts, Master. William Loch \"William\"</td>\n",
       "      <td>male</td>\n",
       "      <td>3.00</td>\n",
       "      <td>1</td>\n",
       "      <td>1</td>\n",
       "      <td>C.A. 37671</td>\n",
       "      <td>15.9000</td>\n",
       "      <td>NaN</td>\n",
       "      <td>S</td>\n",
       "    </tr>\n",
       "    <tr>\n",
       "      <th>673</th>\n",
       "      <td>0</td>\n",
       "      <td>2</td>\n",
       "      <td>Mitchell, Mr. Henry Michael</td>\n",
       "      <td>male</td>\n",
       "      <td>70.00</td>\n",
       "      <td>0</td>\n",
       "      <td>0</td>\n",
       "      <td>C.A. 24580</td>\n",
       "      <td>10.5000</td>\n",
       "      <td>NaN</td>\n",
       "      <td>S</td>\n",
       "    </tr>\n",
       "    <tr>\n",
       "      <th>756</th>\n",
       "      <td>1</td>\n",
       "      <td>2</td>\n",
       "      <td>Hamalainen, Master. Viljo</td>\n",
       "      <td>male</td>\n",
       "      <td>0.67</td>\n",
       "      <td>1</td>\n",
       "      <td>1</td>\n",
       "      <td>250649</td>\n",
       "      <td>14.5000</td>\n",
       "      <td>NaN</td>\n",
       "      <td>S</td>\n",
       "    </tr>\n",
       "    <tr>\n",
       "      <th>844</th>\n",
       "      <td>0</td>\n",
       "      <td>3</td>\n",
       "      <td>Lemberopolous, Mr. Peter L</td>\n",
       "      <td>male</td>\n",
       "      <td>34.50</td>\n",
       "      <td>0</td>\n",
       "      <td>0</td>\n",
       "      <td>2683</td>\n",
       "      <td>6.4375</td>\n",
       "      <td>NaN</td>\n",
       "      <td>C</td>\n",
       "    </tr>\n",
       "    <tr>\n",
       "      <th>653</th>\n",
       "      <td>0</td>\n",
       "      <td>3</td>\n",
       "      <td>Kalvik, Mr. Johannes Halvorsen</td>\n",
       "      <td>male</td>\n",
       "      <td>21.00</td>\n",
       "      <td>0</td>\n",
       "      <td>0</td>\n",
       "      <td>8475</td>\n",
       "      <td>8.4333</td>\n",
       "      <td>NaN</td>\n",
       "      <td>S</td>\n",
       "    </tr>\n",
       "    <tr>\n",
       "      <th>765</th>\n",
       "      <td>0</td>\n",
       "      <td>3</td>\n",
       "      <td>Eklund, Mr. Hans Linus</td>\n",
       "      <td>male</td>\n",
       "      <td>16.00</td>\n",
       "      <td>0</td>\n",
       "      <td>0</td>\n",
       "      <td>347074</td>\n",
       "      <td>7.7750</td>\n",
       "      <td>NaN</td>\n",
       "      <td>S</td>\n",
       "    </tr>\n",
       "    <tr>\n",
       "      <th>474</th>\n",
       "      <td>1</td>\n",
       "      <td>2</td>\n",
       "      <td>Jerwan, Mrs. Amin S (Marie Marthe Thuillard)</td>\n",
       "      <td>female</td>\n",
       "      <td>23.00</td>\n",
       "      <td>0</td>\n",
       "      <td>0</td>\n",
       "      <td>SC/AH Basle 541</td>\n",
       "      <td>13.7917</td>\n",
       "      <td>D</td>\n",
       "      <td>C</td>\n",
       "    </tr>\n",
       "    <tr>\n",
       "      <th>420</th>\n",
       "      <td>0</td>\n",
       "      <td>3</td>\n",
       "      <td>Van Impe, Miss. Catharina</td>\n",
       "      <td>female</td>\n",
       "      <td>10.00</td>\n",
       "      <td>0</td>\n",
       "      <td>2</td>\n",
       "      <td>345773</td>\n",
       "      <td>24.1500</td>\n",
       "      <td>NaN</td>\n",
       "      <td>S</td>\n",
       "    </tr>\n",
       "    <tr>\n",
       "      <th>500</th>\n",
       "      <td>0</td>\n",
       "      <td>3</td>\n",
       "      <td>Svensson, Mr. Olof</td>\n",
       "      <td>male</td>\n",
       "      <td>24.00</td>\n",
       "      <td>0</td>\n",
       "      <td>0</td>\n",
       "      <td>350035</td>\n",
       "      <td>7.7958</td>\n",
       "      <td>NaN</td>\n",
       "      <td>S</td>\n",
       "    </tr>\n",
       "    <tr>\n",
       "      <th>735</th>\n",
       "      <td>0</td>\n",
       "      <td>2</td>\n",
       "      <td>Troupiansky, Mr. Moses Aaron</td>\n",
       "      <td>male</td>\n",
       "      <td>23.00</td>\n",
       "      <td>0</td>\n",
       "      <td>0</td>\n",
       "      <td>233639</td>\n",
       "      <td>13.0000</td>\n",
       "      <td>NaN</td>\n",
       "      <td>S</td>\n",
       "    </tr>\n",
       "    <tr>\n",
       "      <th>251</th>\n",
       "      <td>0</td>\n",
       "      <td>3</td>\n",
       "      <td>Reed, Mr. James George</td>\n",
       "      <td>male</td>\n",
       "      <td>NaN</td>\n",
       "      <td>0</td>\n",
       "      <td>0</td>\n",
       "      <td>362316</td>\n",
       "      <td>7.2500</td>\n",
       "      <td>NaN</td>\n",
       "      <td>S</td>\n",
       "    </tr>\n",
       "    <tr>\n",
       "      <th>486</th>\n",
       "      <td>0</td>\n",
       "      <td>3</td>\n",
       "      <td>Lefebre, Miss. Jeannie</td>\n",
       "      <td>female</td>\n",
       "      <td>NaN</td>\n",
       "      <td>3</td>\n",
       "      <td>1</td>\n",
       "      <td>4133</td>\n",
       "      <td>25.4667</td>\n",
       "      <td>NaN</td>\n",
       "      <td>S</td>\n",
       "    </tr>\n",
       "    <tr>\n",
       "      <th>179</th>\n",
       "      <td>0</td>\n",
       "      <td>2</td>\n",
       "      <td>Hale, Mr. Reginald</td>\n",
       "      <td>male</td>\n",
       "      <td>30.00</td>\n",
       "      <td>0</td>\n",
       "      <td>0</td>\n",
       "      <td>250653</td>\n",
       "      <td>13.0000</td>\n",
       "      <td>NaN</td>\n",
       "      <td>S</td>\n",
       "    </tr>\n",
       "    <tr>\n",
       "      <th>573</th>\n",
       "      <td>1</td>\n",
       "      <td>1</td>\n",
       "      <td>Flynn, Mr. John Irwin (\"Irving\")</td>\n",
       "      <td>male</td>\n",
       "      <td>36.00</td>\n",
       "      <td>0</td>\n",
       "      <td>0</td>\n",
       "      <td>PC 17474</td>\n",
       "      <td>26.3875</td>\n",
       "      <td>E25</td>\n",
       "      <td>S</td>\n",
       "    </tr>\n",
       "    <tr>\n",
       "      <th>701</th>\n",
       "      <td>1</td>\n",
       "      <td>1</td>\n",
       "      <td>Astor, Mrs. John Jacob (Madeleine Talmadge Force)</td>\n",
       "      <td>female</td>\n",
       "      <td>18.00</td>\n",
       "      <td>1</td>\n",
       "      <td>0</td>\n",
       "      <td>PC 17757</td>\n",
       "      <td>227.5250</td>\n",
       "      <td>C62 C64</td>\n",
       "      <td>C</td>\n",
       "    </tr>\n",
       "    <tr>\n",
       "      <th>56</th>\n",
       "      <td>1</td>\n",
       "      <td>1</td>\n",
       "      <td>Woolner, Mr. Hugh</td>\n",
       "      <td>male</td>\n",
       "      <td>NaN</td>\n",
       "      <td>0</td>\n",
       "      <td>0</td>\n",
       "      <td>19947</td>\n",
       "      <td>35.5000</td>\n",
       "      <td>C52</td>\n",
       "      <td>S</td>\n",
       "    </tr>\n",
       "    <tr>\n",
       "      <th>715</th>\n",
       "      <td>0</td>\n",
       "      <td>2</td>\n",
       "      <td>Greenberg, Mr. Samuel</td>\n",
       "      <td>male</td>\n",
       "      <td>52.00</td>\n",
       "      <td>0</td>\n",
       "      <td>0</td>\n",
       "      <td>250647</td>\n",
       "      <td>13.0000</td>\n",
       "      <td>NaN</td>\n",
       "      <td>S</td>\n",
       "    </tr>\n",
       "  </tbody>\n",
       "</table>\n",
       "</div>"
      ],
      "text/plain": [
       "             Survived  Pclass  \\\n",
       "PassengerId                     \n",
       "108                 1       3   \n",
       "813                 0       2   \n",
       "384                 1       1   \n",
       "227                 1       2   \n",
       "29                  1       3   \n",
       "452                 0       3   \n",
       "508                 1       1   \n",
       "640                 0       3   \n",
       "814                 0       3   \n",
       "779                 0       3   \n",
       "522                 0       3   \n",
       "887                 0       2   \n",
       "295                 0       3   \n",
       "349                 1       3   \n",
       "673                 0       2   \n",
       "756                 1       2   \n",
       "844                 0       3   \n",
       "653                 0       3   \n",
       "765                 0       3   \n",
       "474                 1       2   \n",
       "420                 0       3   \n",
       "500                 0       3   \n",
       "735                 0       2   \n",
       "251                 0       3   \n",
       "486                 0       3   \n",
       "179                 0       2   \n",
       "573                 1       1   \n",
       "701                 1       1   \n",
       "56                  1       1   \n",
       "715                 0       2   \n",
       "\n",
       "                                                          Name     Sex    Age  \\\n",
       "PassengerId                                                                     \n",
       "108                                     Moss, Mr. Albert Johan    male    NaN   \n",
       "813                                  Slemen, Mr. Richard James    male  35.00   \n",
       "384          Holverson, Mrs. Alexander Oskar (Mary Aline To...  female  35.00   \n",
       "227                                  Mellors, Mr. William John    male  19.00   \n",
       "29                               O'Dwyer, Miss. Ellen \"Nellie\"  female    NaN   \n",
       "452                            Hagland, Mr. Ingvald Olai Olsen    male    NaN   \n",
       "508              Bradley, Mr. George (\"George Arthur Brayton\")    male    NaN   \n",
       "640                                 Thorneycroft, Mr. Percival    male    NaN   \n",
       "814                         Andersson, Miss. Ebba Iris Alfrida  female   6.00   \n",
       "779                                    Kilgannon, Mr. Thomas J    male    NaN   \n",
       "522                                            Vovk, Mr. Janko    male  22.00   \n",
       "887                                      Montvila, Rev. Juozas    male  27.00   \n",
       "295                                           Mineff, Mr. Ivan    male  24.00   \n",
       "349                     Coutts, Master. William Loch \"William\"    male   3.00   \n",
       "673                                Mitchell, Mr. Henry Michael    male  70.00   \n",
       "756                                  Hamalainen, Master. Viljo    male   0.67   \n",
       "844                                 Lemberopolous, Mr. Peter L    male  34.50   \n",
       "653                             Kalvik, Mr. Johannes Halvorsen    male  21.00   \n",
       "765                                     Eklund, Mr. Hans Linus    male  16.00   \n",
       "474               Jerwan, Mrs. Amin S (Marie Marthe Thuillard)  female  23.00   \n",
       "420                                  Van Impe, Miss. Catharina  female  10.00   \n",
       "500                                         Svensson, Mr. Olof    male  24.00   \n",
       "735                               Troupiansky, Mr. Moses Aaron    male  23.00   \n",
       "251                                     Reed, Mr. James George    male    NaN   \n",
       "486                                     Lefebre, Miss. Jeannie  female    NaN   \n",
       "179                                         Hale, Mr. Reginald    male  30.00   \n",
       "573                           Flynn, Mr. John Irwin (\"Irving\")    male  36.00   \n",
       "701          Astor, Mrs. John Jacob (Madeleine Talmadge Force)  female  18.00   \n",
       "56                                           Woolner, Mr. Hugh    male    NaN   \n",
       "715                                      Greenberg, Mr. Samuel    male  52.00   \n",
       "\n",
       "             SibSp  Parch           Ticket      Fare    Cabin Embarked  \n",
       "PassengerId                                                             \n",
       "108              0      0           312991    7.7750      NaN        S  \n",
       "813              0      0            28206   10.5000      NaN        S  \n",
       "384              1      0           113789   52.0000      NaN        S  \n",
       "227              0      0        SW/PP 751   10.5000      NaN        S  \n",
       "29               0      0           330959    7.8792      NaN        Q  \n",
       "452              1      0            65303   19.9667      NaN        S  \n",
       "508              0      0           111427   26.5500      NaN        S  \n",
       "640              1      0           376564   16.1000      NaN        S  \n",
       "814              4      2           347082   31.2750      NaN        S  \n",
       "779              0      0            36865    7.7375      NaN        Q  \n",
       "522              0      0           349252    7.8958      NaN        S  \n",
       "887              0      0           211536   13.0000      NaN        S  \n",
       "295              0      0           349233    7.8958      NaN        S  \n",
       "349              1      1       C.A. 37671   15.9000      NaN        S  \n",
       "673              0      0       C.A. 24580   10.5000      NaN        S  \n",
       "756              1      1           250649   14.5000      NaN        S  \n",
       "844              0      0             2683    6.4375      NaN        C  \n",
       "653              0      0             8475    8.4333      NaN        S  \n",
       "765              0      0           347074    7.7750      NaN        S  \n",
       "474              0      0  SC/AH Basle 541   13.7917        D        C  \n",
       "420              0      2           345773   24.1500      NaN        S  \n",
       "500              0      0           350035    7.7958      NaN        S  \n",
       "735              0      0           233639   13.0000      NaN        S  \n",
       "251              0      0           362316    7.2500      NaN        S  \n",
       "486              3      1             4133   25.4667      NaN        S  \n",
       "179              0      0           250653   13.0000      NaN        S  \n",
       "573              0      0         PC 17474   26.3875      E25        S  \n",
       "701              1      0         PC 17757  227.5250  C62 C64        C  \n",
       "56               0      0            19947   35.5000      C52        S  \n",
       "715              0      0           250647   13.0000      NaN        S  "
      ]
     },
     "execution_count": 231,
     "metadata": {},
     "output_type": "execute_result"
    }
   ],
   "source": [
    "#Read Dataset and Convert it form Csv to DataFrame(Titanic_df)\n",
    "titanic_df=pd.read_csv('titanic_data.csv',index_col='PassengerId')\n",
    "titanic_df.sample(30)"
   ]
  },
  {
   "cell_type": "code",
   "execution_count": 6,
   "id": "00715988",
   "metadata": {},
   "outputs": [
    {
     "name": "stdout",
     "output_type": "stream",
     "text": [
      "<class 'pandas.core.frame.DataFrame'>\n",
      "Int64Index: 891 entries, 1 to 891\n",
      "Data columns (total 11 columns):\n",
      " #   Column    Non-Null Count  Dtype  \n",
      "---  ------    --------------  -----  \n",
      " 0   Survived  891 non-null    int64  \n",
      " 1   Pclass    891 non-null    int64  \n",
      " 2   Name      891 non-null    object \n",
      " 3   Sex       891 non-null    object \n",
      " 4   Age       714 non-null    float64\n",
      " 5   SibSp     891 non-null    int64  \n",
      " 6   Parch     891 non-null    int64  \n",
      " 7   Ticket    891 non-null    object \n",
      " 8   Fare      891 non-null    float64\n",
      " 9   Cabin     204 non-null    object \n",
      " 10  Embarked  889 non-null    object \n",
      "dtypes: float64(2), int64(4), object(5)\n",
      "memory usage: 83.5+ KB\n"
     ]
    }
   ],
   "source": [
    "titanic_df.info()"
   ]
  },
  {
   "cell_type": "code",
   "execution_count": 7,
   "id": "21e6869b",
   "metadata": {},
   "outputs": [
    {
     "data": {
      "text/plain": [
       "Survived      0\n",
       "Pclass        0\n",
       "Name          0\n",
       "Sex           0\n",
       "Age         177\n",
       "SibSp         0\n",
       "Parch         0\n",
       "Ticket        0\n",
       "Fare          0\n",
       "Cabin       687\n",
       "Embarked      2\n",
       "dtype: int64"
      ]
     },
     "execution_count": 7,
     "metadata": {},
     "output_type": "execute_result"
    }
   ],
   "source": [
    "#checking for total null values (missing data)\n",
    "titanic_df.isnull().sum() "
   ]
  },
  {
   "cell_type": "markdown",
   "id": "87ad9c1a",
   "metadata": {},
   "source": [
    "The Age, Cabin and Embarked have null values. I will try to fix them.\n",
    "\n"
   ]
  },
  {
   "cell_type": "code",
   "execution_count": 8,
   "id": "ffd27f11",
   "metadata": {},
   "outputs": [
    {
     "data": {
      "text/html": [
       "<div>\n",
       "<style scoped>\n",
       "    .dataframe tbody tr th:only-of-type {\n",
       "        vertical-align: middle;\n",
       "    }\n",
       "\n",
       "    .dataframe tbody tr th {\n",
       "        vertical-align: top;\n",
       "    }\n",
       "\n",
       "    .dataframe thead th {\n",
       "        text-align: right;\n",
       "    }\n",
       "</style>\n",
       "<table border=\"1\" class=\"dataframe\">\n",
       "  <thead>\n",
       "    <tr style=\"text-align: right;\">\n",
       "      <th></th>\n",
       "      <th>Survived</th>\n",
       "      <th>Pclass</th>\n",
       "      <th>Age</th>\n",
       "      <th>SibSp</th>\n",
       "      <th>Parch</th>\n",
       "      <th>Fare</th>\n",
       "    </tr>\n",
       "  </thead>\n",
       "  <tbody>\n",
       "    <tr>\n",
       "      <th>count</th>\n",
       "      <td>891.000000</td>\n",
       "      <td>891.000000</td>\n",
       "      <td>714.000000</td>\n",
       "      <td>891.000000</td>\n",
       "      <td>891.000000</td>\n",
       "      <td>891.000000</td>\n",
       "    </tr>\n",
       "    <tr>\n",
       "      <th>mean</th>\n",
       "      <td>0.383838</td>\n",
       "      <td>2.308642</td>\n",
       "      <td>29.699118</td>\n",
       "      <td>0.523008</td>\n",
       "      <td>0.381594</td>\n",
       "      <td>32.204208</td>\n",
       "    </tr>\n",
       "    <tr>\n",
       "      <th>std</th>\n",
       "      <td>0.486592</td>\n",
       "      <td>0.836071</td>\n",
       "      <td>14.526497</td>\n",
       "      <td>1.102743</td>\n",
       "      <td>0.806057</td>\n",
       "      <td>49.693429</td>\n",
       "    </tr>\n",
       "    <tr>\n",
       "      <th>min</th>\n",
       "      <td>0.000000</td>\n",
       "      <td>1.000000</td>\n",
       "      <td>0.420000</td>\n",
       "      <td>0.000000</td>\n",
       "      <td>0.000000</td>\n",
       "      <td>0.000000</td>\n",
       "    </tr>\n",
       "    <tr>\n",
       "      <th>25%</th>\n",
       "      <td>0.000000</td>\n",
       "      <td>2.000000</td>\n",
       "      <td>20.125000</td>\n",
       "      <td>0.000000</td>\n",
       "      <td>0.000000</td>\n",
       "      <td>7.910400</td>\n",
       "    </tr>\n",
       "    <tr>\n",
       "      <th>50%</th>\n",
       "      <td>0.000000</td>\n",
       "      <td>3.000000</td>\n",
       "      <td>28.000000</td>\n",
       "      <td>0.000000</td>\n",
       "      <td>0.000000</td>\n",
       "      <td>14.454200</td>\n",
       "    </tr>\n",
       "    <tr>\n",
       "      <th>75%</th>\n",
       "      <td>1.000000</td>\n",
       "      <td>3.000000</td>\n",
       "      <td>38.000000</td>\n",
       "      <td>1.000000</td>\n",
       "      <td>0.000000</td>\n",
       "      <td>31.000000</td>\n",
       "    </tr>\n",
       "    <tr>\n",
       "      <th>max</th>\n",
       "      <td>1.000000</td>\n",
       "      <td>3.000000</td>\n",
       "      <td>80.000000</td>\n",
       "      <td>8.000000</td>\n",
       "      <td>6.000000</td>\n",
       "      <td>512.329200</td>\n",
       "    </tr>\n",
       "  </tbody>\n",
       "</table>\n",
       "</div>"
      ],
      "text/plain": [
       "         Survived      Pclass         Age       SibSp       Parch        Fare\n",
       "count  891.000000  891.000000  714.000000  891.000000  891.000000  891.000000\n",
       "mean     0.383838    2.308642   29.699118    0.523008    0.381594   32.204208\n",
       "std      0.486592    0.836071   14.526497    1.102743    0.806057   49.693429\n",
       "min      0.000000    1.000000    0.420000    0.000000    0.000000    0.000000\n",
       "25%      0.000000    2.000000   20.125000    0.000000    0.000000    7.910400\n",
       "50%      0.000000    3.000000   28.000000    0.000000    0.000000   14.454200\n",
       "75%      1.000000    3.000000   38.000000    1.000000    0.000000   31.000000\n",
       "max      1.000000    3.000000   80.000000    8.000000    6.000000  512.329200"
      ]
     },
     "execution_count": 8,
     "metadata": {},
     "output_type": "execute_result"
    }
   ],
   "source": [
    "titanic_df.describe()"
   ]
  },
  {
   "cell_type": "code",
   "execution_count": 9,
   "id": "09bf3337",
   "metadata": {},
   "outputs": [
    {
     "data": {
      "text/html": [
       "<div>\n",
       "<style scoped>\n",
       "    .dataframe tbody tr th:only-of-type {\n",
       "        vertical-align: middle;\n",
       "    }\n",
       "\n",
       "    .dataframe tbody tr th {\n",
       "        vertical-align: top;\n",
       "    }\n",
       "\n",
       "    .dataframe thead th {\n",
       "        text-align: right;\n",
       "    }\n",
       "</style>\n",
       "<table border=\"1\" class=\"dataframe\">\n",
       "  <thead>\n",
       "    <tr style=\"text-align: right;\">\n",
       "      <th></th>\n",
       "      <th>Survived</th>\n",
       "      <th>Pclass</th>\n",
       "      <th>Name</th>\n",
       "      <th>Sex</th>\n",
       "      <th>Age</th>\n",
       "      <th>SibSp</th>\n",
       "      <th>Parch</th>\n",
       "      <th>Ticket</th>\n",
       "      <th>Fare</th>\n",
       "      <th>Cabin</th>\n",
       "      <th>Embarked</th>\n",
       "    </tr>\n",
       "    <tr>\n",
       "      <th>PassengerId</th>\n",
       "      <th></th>\n",
       "      <th></th>\n",
       "      <th></th>\n",
       "      <th></th>\n",
       "      <th></th>\n",
       "      <th></th>\n",
       "      <th></th>\n",
       "      <th></th>\n",
       "      <th></th>\n",
       "      <th></th>\n",
       "      <th></th>\n",
       "    </tr>\n",
       "  </thead>\n",
       "  <tbody>\n",
       "  </tbody>\n",
       "</table>\n",
       "</div>"
      ],
      "text/plain": [
       "Empty DataFrame\n",
       "Columns: [Survived, Pclass, Name, Sex, Age, SibSp, Parch, Ticket, Fare, Cabin, Embarked]\n",
       "Index: []"
      ]
     },
     "execution_count": 9,
     "metadata": {},
     "output_type": "execute_result"
    }
   ],
   "source": [
    "#no data duplicated\n",
    "titanic_df[titanic_df.duplicated()==True]"
   ]
  },
  {
   "cell_type": "markdown",
   "id": "68abdc9f",
   "metadata": {},
   "source": [
    "# now we need exploration our data to ask some questions\n",
    "How many total survivors, and how many male and female survivors ,and total \n",
    "\n",
    "non-survivors, and how many male and female non-survivors ? \n",
    " \n",
    "What number of survivors per Ticket class ?\n",
    "\n",
    "Average age of passengers (total, males, females)\n",
    "\n",
    "The top 5 ages of the passengers\n",
    "\n",
    "Average age of survivors (total, males, females)\n",
    "\n",
    "Top 5 ages of survivors\n",
    "\n",
    "Average ages of non-survivors (total, males, females)\n",
    "\n",
    "Top 5 ages for non-survivors?\n",
    "\n",
    "Is there a family on a ship ? How many are they ? How many surviving families and how many non-surviving families?\n",
    "\n",
    "What is the value of the passenger fare for each ticket class?\n",
    "\n",
    "The 5 highest and lowest fares for passengers?\n",
    "\n",
    "What are the things that affect the ticket price (age, ticket class, cabin, departure port?\n",
    "\n",
    "How many cabins are there?\n",
    "\n",
    "How many people are in each cabin (how large is it)?\n",
    "\n",
    "Are there different classes in each cabin (or is there a cabin dedicated to the upper class)?\n",
    "\n",
    "Number of passengers from each port?\n",
    "\n",
    "The number of survivors from each port and the non-survivors?\n",
    "\n",
    "Comparison between each port according to the percentage of passengers from each port?"
   ]
  },
  {
   "cell_type": "markdown",
   "id": "4e5cb13c",
   "metadata": {},
   "source": [
    "#  Exploratory Data Analysis(EDA):"
   ]
  },
  {
   "cell_type": "markdown",
   "id": "06c6d0cd",
   "metadata": {},
   "source": [
    "### How many  survivors and  non-survivors ? "
   ]
  },
  {
   "cell_type": "code",
   "execution_count": 10,
   "id": "09784393",
   "metadata": {},
   "outputs": [
    {
     "data": {
      "text/plain": [
       "342"
      ]
     },
     "execution_count": 10,
     "metadata": {},
     "output_type": "execute_result"
    }
   ],
   "source": [
    "titanic_df[titanic_df['Survived']==1]['Survived'].count()"
   ]
  },
  {
   "cell_type": "code",
   "execution_count": 11,
   "id": "23a4ea5b",
   "metadata": {},
   "outputs": [
    {
     "data": {
      "text/plain": [
       "549"
      ]
     },
     "execution_count": 11,
     "metadata": {},
     "output_type": "execute_result"
    }
   ],
   "source": [
    "titanic_df[titanic_df['Survived']==0]['Survived'].count()"
   ]
  },
  {
   "cell_type": "code",
   "execution_count": 12,
   "id": "238676c0",
   "metadata": {},
   "outputs": [
    {
     "data": {
      "text/plain": [
       "non-Survived    549\n",
       "Survived        342\n",
       "Name: Survived, dtype: int64"
      ]
     },
     "execution_count": 12,
     "metadata": {},
     "output_type": "execute_result"
    }
   ],
   "source": [
    "total_Survived=titanic_df['Survived'].value_counts()\n",
    "total_Survived.index=['non-Survived','Survived']\n",
    "total_Survived"
   ]
  },
  {
   "cell_type": "code",
   "execution_count": 13,
   "id": "260d7194",
   "metadata": {},
   "outputs": [
    {
     "data": {
      "text/plain": [
       "Text(0.5, 1.0, 'Survived')"
      ]
     },
     "execution_count": 13,
     "metadata": {},
     "output_type": "execute_result"
    },
    {
     "data": {
      "image/png": "[encoded data removed]",
      "text/plain": [
       "<Figure size 1296x576 with 2 Axes>"
      ]
     },
     "metadata": {
      "needs_background": "light"
     },
     "output_type": "display_data"
    }
   ],
   "source": [
    "f,ax=plt.subplots(1,2,figsize=(18,8))\n",
    "total_Survived.plot.pie(explode=[0.05,0],autopct='%1.1f%%',ax=ax[0])\n",
    "ax[0].set_title('')\n",
    "ax[0].set_ylabel('')\n",
    "\n",
    "sns.countplot(x='Survived',hue=\"Survived\",data=titanic_df,ax=ax[1])\n",
    "ax[1].set_title('Survived')"
   ]
  },
  {
   "cell_type": "markdown",
   "id": "bd0e86f8",
   "metadata": {},
   "source": [
    "### It is evident that not many passengers survived the accident.\n",
    "Out of 891 passengers in training set, only around 350 survived i.e Only 38.4% of the total training set survived the crash.\n",
    "\n",
    "We need to dig down more to get better insights from the data and see which categories of the passengers did survive and who didn't"
   ]
  },
  {
   "cell_type": "markdown",
   "id": "345e5648",
   "metadata": {},
   "source": [
    "### Find more research information by Sex"
   ]
  },
  {
   "cell_type": "code",
   "execution_count": 14,
   "id": "d3c2b8ab",
   "metadata": {},
   "outputs": [
    {
     "data": {
      "text/plain": [
       "Text(0.5, 1.0, 'Female vs Male on ship')"
      ]
     },
     "execution_count": 14,
     "metadata": {},
     "output_type": "execute_result"
    },
    {
     "data": {
      "image/png": "[encoded data removed]",
      "text/plain": [
       "<Figure size 1296x576 with 1 Axes>"
      ]
     },
     "metadata": {
      "needs_background": "light"
     },
     "output_type": "display_data"
    }
   ],
   "source": [
    "f,ax=plt.subplots(1,1,figsize=(18,8))\n",
    "\n",
    "sns.countplot(x='Sex',hue=\"Sex\",data=titanic_df)\n",
    "ax.set_title('Female vs Male on ship',fontsize=25)"
   ]
  },
  {
   "cell_type": "markdown",
   "id": "2224cbda",
   "metadata": {},
   "source": [
    "#### The number of men on the ship is lot more than the number of women"
   ]
  },
  {
   "cell_type": "code",
   "execution_count": 15,
   "id": "4b1a6031",
   "metadata": {},
   "outputs": [
    {
     "data": {
      "text/plain": [
       "Sex     Survived\n",
       "female  0            81\n",
       "        1           233\n",
       "male    0           468\n",
       "        1           109\n",
       "Name: Survived, dtype: int64"
      ]
     },
     "execution_count": 15,
     "metadata": {},
     "output_type": "execute_result"
    }
   ],
   "source": [
    "Sex_survied_count= titanic_df.groupby(['Sex','Survived'])['Survived'].count()\n",
    "Sex_survied_count"
   ]
  },
  {
   "cell_type": "code",
   "execution_count": 16,
   "id": "8ea0b6a7",
   "metadata": {},
   "outputs": [
    {
     "data": {
      "text/plain": [
       "Text(0.5, 1.0, 'Sex:Survived vs Dead')"
      ]
     },
     "execution_count": 16,
     "metadata": {},
     "output_type": "execute_result"
    },
    {
     "data": {
      "image/png": "[encoded data removed]",
      "text/plain": [
       "<Figure size 1296x576 with 3 Axes>"
      ]
     },
     "metadata": {
      "needs_background": "light"
     },
     "output_type": "display_data"
    }
   ],
   "source": [
    "f,ax=plt.subplots(1,3,figsize=(18,8))\n",
    "\n",
    "titanic_df[['Sex','Survived']].groupby(['Sex']).mean().plot.bar(ax=ax[0],rot=0)\n",
    "ax[0].set_title('Mean Survived vs Sex',fontsize=20)\n",
    "\n",
    "sns.countplot(x='Sex',hue=\"Sex\",data=titanic_df,ax=ax[1])\n",
    "ax[1].set_title('Survived vs Sex',fontsize=20)\n",
    "\n",
    "sns.countplot(x='Sex',hue=\"Survived\",data=titanic_df,ax=ax[2])\n",
    "ax[2].set_title('Sex:Survived vs Dead',fontsize=20)"
   ]
  },
  {
   "cell_type": "code",
   "execution_count": 17,
   "id": "7e0d52e0",
   "metadata": {},
   "outputs": [
    {
     "data": {
      "text/plain": [
       "<matplotlib.legend.Legend at 0x1ee878df790>"
      ]
     },
     "execution_count": 17,
     "metadata": {},
     "output_type": "execute_result"
    },
    {
     "data": {
      "image/png": "[encoded data removed]",
      "text/plain": [
       "<Figure size 1296x576 with 2 Axes>"
      ]
     },
     "metadata": {},
     "output_type": "display_data"
    }
   ],
   "source": [
    "f,ax=plt.subplots(1,2,figsize=(18,8))\n",
    "\n",
    "female = titanic_df[titanic_df['Sex']=='female'].groupby(['Survived'])['Survived'].count()\n",
    "female.index=['non-Survived','Survived']\n",
    "\n",
    "\n",
    "male = titanic_df[titanic_df['Sex']=='male'].groupby(['Survived'])['Survived'].count()\n",
    "male.index=['non-Survived','Survived']\n",
    "\n",
    "\n",
    "\n",
    "female.plot.pie(explode=[0.05,0],autopct='%1.1f%%',ax=ax[0])\n",
    "ax[0].set_title('female : Survived vs Dead',fontsize=15)\n",
    "ax[0].set_ylabel('')\n",
    "ax[0].legend()\n",
    "\n",
    "male.plot.pie(explode=[0.05,0],autopct='%1.1f%%',ax=ax[1])\n",
    "ax[1].set_title('Male : Survived vs Dead',fontsize=15)\n",
    "ax[1].set_ylabel('')\n",
    "ax[1].legend()\n",
    "\n"
   ]
  },
  {
   "cell_type": "markdown",
   "id": "dd794d83",
   "metadata": {},
   "source": [
    "#### This looks interesting \n",
    "Still the number of women saved is almost twice the number of males saved. The survival rates for a women on the ship is around 75% while that for men in around 19%.\n",
    "\n"
   ]
  },
  {
   "cell_type": "markdown",
   "id": "c27dc559",
   "metadata": {},
   "source": [
    "## Let's check other features.\n",
    "number of survivors per Ticket class"
   ]
  },
  {
   "cell_type": "code",
   "execution_count": 18,
   "id": "9c85fd9a",
   "metadata": {},
   "outputs": [
    {
     "data": {
      "text/plain": [
       "Text(0.5, 1.0, 'number of passenger per Ticket class')"
      ]
     },
     "execution_count": 18,
     "metadata": {},
     "output_type": "execute_result"
    },
    {
     "data": {
      "image/png": "[encoded data removed]",
      "text/plain": [
       "<Figure size 1296x576 with 2 Axes>"
      ]
     },
     "metadata": {
      "needs_background": "light"
     },
     "output_type": "display_data"
    }
   ],
   "source": [
    "f,ax=plt.subplots(1,2,figsize=(18,8))\n",
    "Ticket_class = titanic_df['Pclass'].value_counts().sort_index()\n",
    "\n",
    "Ticket_class.plot.pie(explode=[0.03,0.03,0.03],autopct='%1.1f%%',ax=ax[0],fontsize=15)\n",
    "ax[0].set_title('passenger per Ticket class',fontsize=15)\n",
    "ax[0].set_ylabel('')\n",
    "\n",
    "sns.countplot(x='Pclass',data=titanic_df,ax=ax[1])\n",
    "ax[1].set_title('number of passenger per Ticket class',fontsize=15)\n",
    "\n"
   ]
  },
  {
   "cell_type": "code",
   "execution_count": 19,
   "id": "5d91a158",
   "metadata": {
    "scrolled": true
   },
   "outputs": [
    {
     "data": {
      "text/html": [
       "<style  type=\"text/css\" >\n",
       "#T_82112_row0_col0,#T_82112_row1_col1,#T_82112_row1_col2{\n",
       "            background-color:  #fff7fb;\n",
       "            color:  #000000;\n",
       "        }#T_82112_row0_col1{\n",
       "            background-color:  #dddbec;\n",
       "            color:  #000000;\n",
       "        }#T_82112_row0_col2{\n",
       "            background-color:  #f8f1f8;\n",
       "            color:  #000000;\n",
       "        }#T_82112_row1_col0{\n",
       "            background-color:  #faf2f8;\n",
       "            color:  #000000;\n",
       "        }#T_82112_row2_col0{\n",
       "            background-color:  #3790c0;\n",
       "            color:  #000000;\n",
       "        }#T_82112_row2_col1{\n",
       "            background-color:  #ece7f2;\n",
       "            color:  #000000;\n",
       "        }#T_82112_row2_col2{\n",
       "            background-color:  #8eb3d5;\n",
       "            color:  #000000;\n",
       "        }#T_82112_row3_col0,#T_82112_row3_col1,#T_82112_row3_col2{\n",
       "            background-color:  #023858;\n",
       "            color:  #f1f1f1;\n",
       "        }</style><table id=\"T_82112_\" ><thead>    <tr>        <th class=\"index_name level0\" >Survived</th>        <th class=\"col_heading level0 col0\" >0</th>        <th class=\"col_heading level0 col1\" >1</th>        <th class=\"col_heading level0 col2\" >All</th>    </tr>    <tr>        <th class=\"index_name level0\" >Pclass</th>        <th class=\"blank\" ></th>        <th class=\"blank\" ></th>        <th class=\"blank\" ></th>    </tr></thead><tbody>\n",
       "                <tr>\n",
       "                        <th id=\"T_82112_level0_row0\" class=\"row_heading level0 row0\" >1</th>\n",
       "                        <td id=\"T_82112_row0_col0\" class=\"data row0 col0\" >80</td>\n",
       "                        <td id=\"T_82112_row0_col1\" class=\"data row0 col1\" >136</td>\n",
       "                        <td id=\"T_82112_row0_col2\" class=\"data row0 col2\" >216</td>\n",
       "            </tr>\n",
       "            <tr>\n",
       "                        <th id=\"T_82112_level0_row1\" class=\"row_heading level0 row1\" >2</th>\n",
       "                        <td id=\"T_82112_row1_col0\" class=\"data row1 col0\" >97</td>\n",
       "                        <td id=\"T_82112_row1_col1\" class=\"data row1 col1\" >87</td>\n",
       "                        <td id=\"T_82112_row1_col2\" class=\"data row1 col2\" >184</td>\n",
       "            </tr>\n",
       "            <tr>\n",
       "                        <th id=\"T_82112_level0_row2\" class=\"row_heading level0 row2\" >3</th>\n",
       "                        <td id=\"T_82112_row2_col0\" class=\"data row2 col0\" >372</td>\n",
       "                        <td id=\"T_82112_row2_col1\" class=\"data row2 col1\" >119</td>\n",
       "                        <td id=\"T_82112_row2_col2\" class=\"data row2 col2\" >491</td>\n",
       "            </tr>\n",
       "            <tr>\n",
       "                        <th id=\"T_82112_level0_row3\" class=\"row_heading level0 row3\" >All</th>\n",
       "                        <td id=\"T_82112_row3_col0\" class=\"data row3 col0\" >549</td>\n",
       "                        <td id=\"T_82112_row3_col1\" class=\"data row3 col1\" >342</td>\n",
       "                        <td id=\"T_82112_row3_col2\" class=\"data row3 col2\" >891</td>\n",
       "            </tr>\n",
       "    </tbody></table>"
      ],
      "text/plain": [
       "<pandas.io.formats.style.Styler at 0x1ee87be4eb0>"
      ]
     },
     "execution_count": 19,
     "metadata": {},
     "output_type": "execute_result"
    }
   ],
   "source": [
    "pd.crosstab(titanic_df['Pclass'],titanic_df['Survived'],margins=True).style.background_gradient()\n"
   ]
  },
  {
   "cell_type": "code",
   "execution_count": 20,
   "id": "86c56b10",
   "metadata": {},
   "outputs": [
    {
     "data": {
      "text/plain": [
       "Text(0.5, 1.0, 'number of survivors and non-survivors per Ticket class')"
      ]
     },
     "execution_count": 20,
     "metadata": {},
     "output_type": "execute_result"
    },
    {
     "data": {
      "image/png": "[encoded data removed]",
      "text/plain": [
       "<Figure size 1296x576 with 1 Axes>"
      ]
     },
     "metadata": {
      "needs_background": "light"
     },
     "output_type": "display_data"
    }
   ],
   "source": [
    "f,ax=plt.subplots(1,figsize=(18,8))\n",
    "\n",
    "\n",
    "sns.countplot(x='Pclass',hue=\"Survived\",data=titanic_df)\n",
    "ax.set_title('number of survivors and non-survivors per Ticket class',fontsize=20)\n"
   ]
  },
  {
   "cell_type": "markdown",
   "id": "db2cfbd7",
   "metadata": {},
   "source": [
    "#### Maybe because they are rich or from the upper class\n",
    "Passenegers Of Pclass 1st and 2nd were given a high priority while rescue. Even though the the number of Passengers in Pclass 3 were a lot higher\n",
    "#### Lets check survival rate with Sex and Pclass Together."
   ]
  },
  {
   "cell_type": "code",
   "execution_count": 21,
   "id": "09ae8acd",
   "metadata": {},
   "outputs": [
    {
     "data": {
      "text/html": [
       "<style  type=\"text/css\" >\n",
       "#T_844fa_row0_col0,#T_844fa_row2_col2,#T_844fa_row3_col1{\n",
       "            background-color:  #fff7fb;\n",
       "            color:  #000000;\n",
       "        }#T_844fa_row0_col1{\n",
       "            background-color:  #d5d5e8;\n",
       "            color:  #000000;\n",
       "        }#T_844fa_row0_col2{\n",
       "            background-color:  #fcf4fa;\n",
       "            color:  #000000;\n",
       "        }#T_844fa_row1_col0{\n",
       "            background-color:  #eae6f1;\n",
       "            color:  #000000;\n",
       "        }#T_844fa_row1_col1,#T_844fa_row4_col2{\n",
       "            background-color:  #f2ecf5;\n",
       "            color:  #000000;\n",
       "        }#T_844fa_row1_col2{\n",
       "            background-color:  #f7f0f7;\n",
       "            color:  #000000;\n",
       "        }#T_844fa_row2_col0{\n",
       "            background-color:  #fef6fb;\n",
       "            color:  #000000;\n",
       "        }#T_844fa_row2_col1,#T_844fa_row3_col0{\n",
       "            background-color:  #e4e1ef;\n",
       "            color:  #000000;\n",
       "        }#T_844fa_row3_col2{\n",
       "            background-color:  #f9f2f8;\n",
       "            color:  #000000;\n",
       "        }#T_844fa_row4_col0{\n",
       "            background-color:  #ece7f2;\n",
       "            color:  #000000;\n",
       "        }#T_844fa_row4_col1{\n",
       "            background-color:  #e2dfee;\n",
       "            color:  #000000;\n",
       "        }#T_844fa_row5_col0{\n",
       "            background-color:  #5ea0ca;\n",
       "            color:  #000000;\n",
       "        }#T_844fa_row5_col1{\n",
       "            background-color:  #f1ebf5;\n",
       "            color:  #000000;\n",
       "        }#T_844fa_row5_col2{\n",
       "            background-color:  #b4c4df;\n",
       "            color:  #000000;\n",
       "        }#T_844fa_row6_col0,#T_844fa_row6_col1,#T_844fa_row6_col2{\n",
       "            background-color:  #023858;\n",
       "            color:  #f1f1f1;\n",
       "        }</style><table id=\"T_844fa_\" ><thead>    <tr>        <th class=\"blank\" ></th>        <th class=\"index_name level0\" >Survived</th>        <th class=\"col_heading level0 col0\" >0</th>        <th class=\"col_heading level0 col1\" >1</th>        <th class=\"col_heading level0 col2\" >All</th>    </tr>    <tr>        <th class=\"index_name level0\" >Pclass</th>        <th class=\"index_name level1\" >Sex</th>        <th class=\"blank\" ></th>        <th class=\"blank\" ></th>        <th class=\"blank\" ></th>    </tr></thead><tbody>\n",
       "                <tr>\n",
       "                        <th id=\"T_844fa_level0_row0\" class=\"row_heading level0 row0\" rowspan=\"2\">1</th>\n",
       "                        <th id=\"T_844fa_level1_row0\" class=\"row_heading level1 row0\" >female</th>\n",
       "                        <td id=\"T_844fa_row0_col0\" class=\"data row0 col0\" >3</td>\n",
       "                        <td id=\"T_844fa_row0_col1\" class=\"data row0 col1\" >91</td>\n",
       "                        <td id=\"T_844fa_row0_col2\" class=\"data row0 col2\" >94</td>\n",
       "            </tr>\n",
       "            <tr>\n",
       "                                <th id=\"T_844fa_level1_row1\" class=\"row_heading level1 row1\" >male</th>\n",
       "                        <td id=\"T_844fa_row1_col0\" class=\"data row1 col0\" >77</td>\n",
       "                        <td id=\"T_844fa_row1_col1\" class=\"data row1 col1\" >45</td>\n",
       "                        <td id=\"T_844fa_row1_col2\" class=\"data row1 col2\" >122</td>\n",
       "            </tr>\n",
       "            <tr>\n",
       "                        <th id=\"T_844fa_level0_row2\" class=\"row_heading level0 row2\" rowspan=\"2\">2</th>\n",
       "                        <th id=\"T_844fa_level1_row2\" class=\"row_heading level1 row2\" >female</th>\n",
       "                        <td id=\"T_844fa_row2_col0\" class=\"data row2 col0\" >6</td>\n",
       "                        <td id=\"T_844fa_row2_col1\" class=\"data row2 col1\" >70</td>\n",
       "                        <td id=\"T_844fa_row2_col2\" class=\"data row2 col2\" >76</td>\n",
       "            </tr>\n",
       "            <tr>\n",
       "                                <th id=\"T_844fa_level1_row3\" class=\"row_heading level1 row3\" >male</th>\n",
       "                        <td id=\"T_844fa_row3_col0\" class=\"data row3 col0\" >91</td>\n",
       "                        <td id=\"T_844fa_row3_col1\" class=\"data row3 col1\" >17</td>\n",
       "                        <td id=\"T_844fa_row3_col2\" class=\"data row3 col2\" >108</td>\n",
       "            </tr>\n",
       "            <tr>\n",
       "                        <th id=\"T_844fa_level0_row4\" class=\"row_heading level0 row4\" rowspan=\"2\">3</th>\n",
       "                        <th id=\"T_844fa_level1_row4\" class=\"row_heading level1 row4\" >female</th>\n",
       "                        <td id=\"T_844fa_row4_col0\" class=\"data row4 col0\" >72</td>\n",
       "                        <td id=\"T_844fa_row4_col1\" class=\"data row4 col1\" >72</td>\n",
       "                        <td id=\"T_844fa_row4_col2\" class=\"data row4 col2\" >144</td>\n",
       "            </tr>\n",
       "            <tr>\n",
       "                                <th id=\"T_844fa_level1_row5\" class=\"row_heading level1 row5\" >male</th>\n",
       "                        <td id=\"T_844fa_row5_col0\" class=\"data row5 col0\" >300</td>\n",
       "                        <td id=\"T_844fa_row5_col1\" class=\"data row5 col1\" >47</td>\n",
       "                        <td id=\"T_844fa_row5_col2\" class=\"data row5 col2\" >347</td>\n",
       "            </tr>\n",
       "            <tr>\n",
       "                        <th id=\"T_844fa_level0_row6\" class=\"row_heading level0 row6\" >All</th>\n",
       "                        <th id=\"T_844fa_level1_row6\" class=\"row_heading level1 row6\" ></th>\n",
       "                        <td id=\"T_844fa_row6_col0\" class=\"data row6 col0\" >549</td>\n",
       "                        <td id=\"T_844fa_row6_col1\" class=\"data row6 col1\" >342</td>\n",
       "                        <td id=\"T_844fa_row6_col2\" class=\"data row6 col2\" >891</td>\n",
       "            </tr>\n",
       "    </tbody></table>"
      ],
      "text/plain": [
       "<pandas.io.formats.style.Styler at 0x1ee8814ea60>"
      ]
     },
     "execution_count": 21,
     "metadata": {},
     "output_type": "execute_result"
    }
   ],
   "source": [
    "pd.crosstab([titanic_df['Pclass'],titanic_df['Sex']],titanic_df['Survived'],margins=True).style.background_gradient()\n"
   ]
  },
  {
   "cell_type": "code",
   "execution_count": 22,
   "id": "000ce9da",
   "metadata": {},
   "outputs": [
    {
     "data": {
      "text/plain": [
       "<seaborn.axisgrid.FacetGrid at 0x1ee8813ea00>"
      ]
     },
     "execution_count": 22,
     "metadata": {},
     "output_type": "execute_result"
    },
    {
     "data": {
      "image/png": "[encoded data removed]",
      "text/plain": [
       "<Figure size 1296x576 with 2 Axes>"
      ]
     },
     "metadata": {
      "needs_background": "light"
     },
     "output_type": "display_data"
    },
    {
     "data": {
      "image/png": "[encoded data removed]",
      "text/plain": [
       "<Figure size 430.5x360 with 1 Axes>"
      ]
     },
     "metadata": {
      "needs_background": "light"
     },
     "output_type": "display_data"
    }
   ],
   "source": [
    "f,ax=plt.subplots(1,2,figsize=(18,8))\n",
    "\n",
    "\n",
    "sns.countplot(x='Pclass',hue=\"Survived\",data=titanic_df[titanic_df['Sex']=='female'],ax=ax[0])\n",
    "ax[0].set_title('Male',fontsize=20)\n",
    "\n",
    "\n",
    "sns.countplot(x='Pclass',hue=\"Survived\",data=titanic_df[titanic_df['Sex']=='male'],ax=ax[1])\n",
    "ax[1].set_title('Female',fontsize=20)\n",
    "\n",
    "sns.catplot(x='Pclass',y='Survived',hue='Sex',kind='point',data=titanic_df)"
   ]
  },
  {
   "cell_type": "markdown",
   "id": "09172de7",
   "metadata": {},
   "source": [
    "#### Women were given first priority while rescue.\n",
    " survival for Women from 1st is about 95-96%, as only 3 out of 94 Women died.\n",
    " \n",
    "irrespective of Pclass all Men have a very low survival rate."
   ]
  },
  {
   "cell_type": "markdown",
   "id": "0360d63a",
   "metadata": {},
   "source": [
    "### Handling Missing Age Data\n",
    "\n",
    "- Detecting null values\n",
    "- Drop or Fill null values"
   ]
  },
  {
   "cell_type": "code",
   "execution_count": 252,
   "id": "6218c55c",
   "metadata": {},
   "outputs": [
    {
     "name": "stdout",
     "output_type": "stream",
     "text": [
      "Number of missing age data :  177\n"
     ]
    },
    {
     "data": {
      "text/html": [
       "<div>\n",
       "<style scoped>\n",
       "    .dataframe tbody tr th:only-of-type {\n",
       "        vertical-align: middle;\n",
       "    }\n",
       "\n",
       "    .dataframe tbody tr th {\n",
       "        vertical-align: top;\n",
       "    }\n",
       "\n",
       "    .dataframe thead th {\n",
       "        text-align: right;\n",
       "    }\n",
       "</style>\n",
       "<table border=\"1\" class=\"dataframe\">\n",
       "  <thead>\n",
       "    <tr style=\"text-align: right;\">\n",
       "      <th></th>\n",
       "      <th>Survived</th>\n",
       "      <th>Pclass</th>\n",
       "      <th>Name</th>\n",
       "      <th>Sex</th>\n",
       "      <th>Age</th>\n",
       "      <th>SibSp</th>\n",
       "      <th>Parch</th>\n",
       "      <th>Ticket</th>\n",
       "      <th>Fare</th>\n",
       "      <th>Cabin</th>\n",
       "      <th>Embarked</th>\n",
       "      <th>shortening</th>\n",
       "      <th>shortening</th>\n",
       "    </tr>\n",
       "    <tr>\n",
       "      <th>PassengerId</th>\n",
       "      <th></th>\n",
       "      <th></th>\n",
       "      <th></th>\n",
       "      <th></th>\n",
       "      <th></th>\n",
       "      <th></th>\n",
       "      <th></th>\n",
       "      <th></th>\n",
       "      <th></th>\n",
       "      <th></th>\n",
       "      <th></th>\n",
       "      <th></th>\n",
       "      <th></th>\n",
       "    </tr>\n",
       "  </thead>\n",
       "  <tbody>\n",
       "    <tr>\n",
       "      <th>6</th>\n",
       "      <td>0</td>\n",
       "      <td>3</td>\n",
       "      <td>Moran, Mr. James</td>\n",
       "      <td>male</td>\n",
       "      <td>NaN</td>\n",
       "      <td>0</td>\n",
       "      <td>0</td>\n",
       "      <td>330877</td>\n",
       "      <td>8.4583</td>\n",
       "      <td>NaN</td>\n",
       "      <td>Q</td>\n",
       "      <td>0</td>\n",
       "      <td>Mr</td>\n",
       "    </tr>\n",
       "    <tr>\n",
       "      <th>18</th>\n",
       "      <td>1</td>\n",
       "      <td>2</td>\n",
       "      <td>Williams, Mr. Charles Eugene</td>\n",
       "      <td>male</td>\n",
       "      <td>NaN</td>\n",
       "      <td>0</td>\n",
       "      <td>0</td>\n",
       "      <td>244373</td>\n",
       "      <td>13.0000</td>\n",
       "      <td>NaN</td>\n",
       "      <td>S</td>\n",
       "      <td>0</td>\n",
       "      <td>Mr</td>\n",
       "    </tr>\n",
       "    <tr>\n",
       "      <th>20</th>\n",
       "      <td>1</td>\n",
       "      <td>3</td>\n",
       "      <td>Masselmani, Mrs. Fatima</td>\n",
       "      <td>female</td>\n",
       "      <td>NaN</td>\n",
       "      <td>0</td>\n",
       "      <td>0</td>\n",
       "      <td>2649</td>\n",
       "      <td>7.2250</td>\n",
       "      <td>NaN</td>\n",
       "      <td>C</td>\n",
       "      <td>0</td>\n",
       "      <td>Mrs</td>\n",
       "    </tr>\n",
       "    <tr>\n",
       "      <th>27</th>\n",
       "      <td>0</td>\n",
       "      <td>3</td>\n",
       "      <td>Emir, Mr. Farred Chehab</td>\n",
       "      <td>male</td>\n",
       "      <td>NaN</td>\n",
       "      <td>0</td>\n",
       "      <td>0</td>\n",
       "      <td>2631</td>\n",
       "      <td>7.2250</td>\n",
       "      <td>NaN</td>\n",
       "      <td>C</td>\n",
       "      <td>0</td>\n",
       "      <td>Mr</td>\n",
       "    </tr>\n",
       "    <tr>\n",
       "      <th>29</th>\n",
       "      <td>1</td>\n",
       "      <td>3</td>\n",
       "      <td>O'Dwyer, Miss. Ellen \"Nellie\"</td>\n",
       "      <td>female</td>\n",
       "      <td>NaN</td>\n",
       "      <td>0</td>\n",
       "      <td>0</td>\n",
       "      <td>330959</td>\n",
       "      <td>7.8792</td>\n",
       "      <td>NaN</td>\n",
       "      <td>Q</td>\n",
       "      <td>0</td>\n",
       "      <td>Miss</td>\n",
       "    </tr>\n",
       "    <tr>\n",
       "      <th>...</th>\n",
       "      <td>...</td>\n",
       "      <td>...</td>\n",
       "      <td>...</td>\n",
       "      <td>...</td>\n",
       "      <td>...</td>\n",
       "      <td>...</td>\n",
       "      <td>...</td>\n",
       "      <td>...</td>\n",
       "      <td>...</td>\n",
       "      <td>...</td>\n",
       "      <td>...</td>\n",
       "      <td>...</td>\n",
       "      <td>...</td>\n",
       "    </tr>\n",
       "    <tr>\n",
       "      <th>860</th>\n",
       "      <td>0</td>\n",
       "      <td>3</td>\n",
       "      <td>Razi, Mr. Raihed</td>\n",
       "      <td>male</td>\n",
       "      <td>NaN</td>\n",
       "      <td>0</td>\n",
       "      <td>0</td>\n",
       "      <td>2629</td>\n",
       "      <td>7.2292</td>\n",
       "      <td>NaN</td>\n",
       "      <td>C</td>\n",
       "      <td>0</td>\n",
       "      <td>Mr</td>\n",
       "    </tr>\n",
       "    <tr>\n",
       "      <th>864</th>\n",
       "      <td>0</td>\n",
       "      <td>3</td>\n",
       "      <td>Sage, Miss. Dorothy Edith \"Dolly\"</td>\n",
       "      <td>female</td>\n",
       "      <td>NaN</td>\n",
       "      <td>8</td>\n",
       "      <td>2</td>\n",
       "      <td>CA. 2343</td>\n",
       "      <td>69.5500</td>\n",
       "      <td>NaN</td>\n",
       "      <td>S</td>\n",
       "      <td>0</td>\n",
       "      <td>Miss</td>\n",
       "    </tr>\n",
       "    <tr>\n",
       "      <th>869</th>\n",
       "      <td>0</td>\n",
       "      <td>3</td>\n",
       "      <td>van Melkebeke, Mr. Philemon</td>\n",
       "      <td>male</td>\n",
       "      <td>NaN</td>\n",
       "      <td>0</td>\n",
       "      <td>0</td>\n",
       "      <td>345777</td>\n",
       "      <td>9.5000</td>\n",
       "      <td>NaN</td>\n",
       "      <td>S</td>\n",
       "      <td>0</td>\n",
       "      <td>Mr</td>\n",
       "    </tr>\n",
       "    <tr>\n",
       "      <th>879</th>\n",
       "      <td>0</td>\n",
       "      <td>3</td>\n",
       "      <td>Laleff, Mr. Kristo</td>\n",
       "      <td>male</td>\n",
       "      <td>NaN</td>\n",
       "      <td>0</td>\n",
       "      <td>0</td>\n",
       "      <td>349217</td>\n",
       "      <td>7.8958</td>\n",
       "      <td>NaN</td>\n",
       "      <td>S</td>\n",
       "      <td>0</td>\n",
       "      <td>Mr</td>\n",
       "    </tr>\n",
       "    <tr>\n",
       "      <th>889</th>\n",
       "      <td>0</td>\n",
       "      <td>3</td>\n",
       "      <td>Johnston, Miss. Catherine Helen \"Carrie\"</td>\n",
       "      <td>female</td>\n",
       "      <td>NaN</td>\n",
       "      <td>1</td>\n",
       "      <td>2</td>\n",
       "      <td>W./C. 6607</td>\n",
       "      <td>23.4500</td>\n",
       "      <td>NaN</td>\n",
       "      <td>S</td>\n",
       "      <td>0</td>\n",
       "      <td>Miss</td>\n",
       "    </tr>\n",
       "  </tbody>\n",
       "</table>\n",
       "<p>177 rows × 13 columns</p>\n",
       "</div>"
      ],
      "text/plain": [
       "             Survived  Pclass                                      Name  \\\n",
       "PassengerId                                                               \n",
       "6                   0       3                          Moran, Mr. James   \n",
       "18                  1       2              Williams, Mr. Charles Eugene   \n",
       "20                  1       3                   Masselmani, Mrs. Fatima   \n",
       "27                  0       3                   Emir, Mr. Farred Chehab   \n",
       "29                  1       3             O'Dwyer, Miss. Ellen \"Nellie\"   \n",
       "...               ...     ...                                       ...   \n",
       "860                 0       3                          Razi, Mr. Raihed   \n",
       "864                 0       3         Sage, Miss. Dorothy Edith \"Dolly\"   \n",
       "869                 0       3               van Melkebeke, Mr. Philemon   \n",
       "879                 0       3                        Laleff, Mr. Kristo   \n",
       "889                 0       3  Johnston, Miss. Catherine Helen \"Carrie\"   \n",
       "\n",
       "                Sex  Age  SibSp  Parch      Ticket     Fare Cabin Embarked  \\\n",
       "PassengerId                                                                  \n",
       "6              male  NaN      0      0      330877   8.4583   NaN        Q   \n",
       "18             male  NaN      0      0      244373  13.0000   NaN        S   \n",
       "20           female  NaN      0      0        2649   7.2250   NaN        C   \n",
       "27             male  NaN      0      0        2631   7.2250   NaN        C   \n",
       "29           female  NaN      0      0      330959   7.8792   NaN        Q   \n",
       "...             ...  ...    ...    ...         ...      ...   ...      ...   \n",
       "860            male  NaN      0      0        2629   7.2292   NaN        C   \n",
       "864          female  NaN      8      2    CA. 2343  69.5500   NaN        S   \n",
       "869            male  NaN      0      0      345777   9.5000   NaN        S   \n",
       "879            male  NaN      0      0      349217   7.8958   NaN        S   \n",
       "889          female  NaN      1      2  W./C. 6607  23.4500   NaN        S   \n",
       "\n",
       "             shortening  shortening  \n",
       "PassengerId                          \n",
       "6                      0         Mr  \n",
       "18                     0         Mr  \n",
       "20                     0        Mrs  \n",
       "27                     0         Mr  \n",
       "29                     0       Miss  \n",
       "...                  ...        ...  \n",
       "860                    0         Mr  \n",
       "864                    0       Miss  \n",
       "869                    0         Mr  \n",
       "879                    0         Mr  \n",
       "889                    0       Miss  \n",
       "\n",
       "[177 rows x 13 columns]"
      ]
     },
     "execution_count": 252,
     "metadata": {},
     "output_type": "execute_result"
    }
   ],
   "source": [
    "print('Number of missing age data : ', titanic_df['Age'].isnull().sum())\n",
    "titanic_df[titanic_df['Age'].isnull()]"
   ]
  },
  {
   "cell_type": "markdown",
   "id": "6a083333",
   "metadata": {},
   "source": [
    "##### We can replace the missing values with the average age of the passengers,\n",
    "but it is not logical that all groups are of the same age. There are children, old people and young people, so we can look for a way to make there more than one age group\n",
    "\n",
    "In the name column there are some titles similar to (Mr, Lady, Doctor) we can divide them into 5 age groups and then replace the missing values by the average of each age group\n"
   ]
  },
  {
   "cell_type": "code",
   "execution_count": 253,
   "id": "2204724a",
   "metadata": {},
   "outputs": [
    {
     "data": {
      "text/plain": [
       "Mr          517\n",
       "Miss        182\n",
       "Mrs         125\n",
       "Master       40\n",
       "Dr            7\n",
       "Rev           6\n",
       "Col           2\n",
       "Mlle          2\n",
       "Major         2\n",
       "Jonkheer      1\n",
       "Ms            1\n",
       "Countess      1\n",
       "Capt          1\n",
       "Don           1\n",
       "Lady          1\n",
       "Sir           1\n",
       "Mme           1\n",
       "Name: shortening, dtype: int64"
      ]
     },
     "execution_count": 253,
     "metadata": {},
     "output_type": "execute_result"
    }
   ],
   "source": [
    "import re\n",
    "titanic_df['shortening ']=0\n",
    "for i in titanic_df:\n",
    "    titanic_df['shortening']=titanic_df['Name'].str.extract('([A-Za-z]+)\\.')\n",
    "titanic_df['shortening'].value_counts()"
   ]
  },
  {
   "cell_type": "code",
   "execution_count": 254,
   "id": "8f706942",
   "metadata": {},
   "outputs": [
    {
     "data": {
      "text/plain": [
       "shortening\n",
       "Capt        70.000000\n",
       "Col         58.000000\n",
       "Countess    33.000000\n",
       "Don         40.000000\n",
       "Dr          42.000000\n",
       "Jonkheer    38.000000\n",
       "Lady        48.000000\n",
       "Major       48.500000\n",
       "Master       4.574167\n",
       "Miss        21.773973\n",
       "Mlle        24.000000\n",
       "Mme         24.000000\n",
       "Mr          32.368090\n",
       "Mrs         35.898148\n",
       "Ms          28.000000\n",
       "Rev         43.166667\n",
       "Sir         49.000000\n",
       "Name: Age, dtype: float64"
      ]
     },
     "execution_count": 254,
     "metadata": {},
     "output_type": "execute_result"
    }
   ],
   "source": [
    "titanic_df.groupby('shortening')['Age'].mean() "
   ]
  },
  {
   "cell_type": "code",
   "execution_count": 257,
   "id": "bad7a47c",
   "metadata": {},
   "outputs": [
    {
     "data": {
      "text/plain": [
       "shortening\n",
       "Master     4.574167\n",
       "Miss      21.860000\n",
       "Mr        32.739609\n",
       "Mrs       35.981818\n",
       "Other     45.888889\n",
       "Name: Age, dtype: float64"
      ]
     },
     "execution_count": 257,
     "metadata": {},
     "output_type": "execute_result"
    }
   ],
   "source": [
    "titanic_df['shortening'].replace(['Mlle','Mme','Ms','Dr','Major','Lady','Countess','Jonkheer','Col','Rev','Capt','Sir','Don'],['Miss','Miss','Miss','Mr','Mr','Mrs','Mrs','Other','Other','Other','Mr','Mr','Mr'],inplace=True)\n",
    "titanic_df.groupby('shortening')['Age'].mean() "
   ]
  },
  {
   "cell_type": "markdown",
   "id": "94ca28a6",
   "metadata": {},
   "source": [
    "### Fill null values "
   ]
  },
  {
   "cell_type": "code",
   "execution_count": 264,
   "id": "dc9b63ea",
   "metadata": {},
   "outputs": [
    {
     "name": "stdout",
     "output_type": "stream",
     "text": [
      "Data Null :  0\n"
     ]
    }
   ],
   "source": [
    "titanic_df.loc[(titanic_df['Age'].isnull())&(titanic_df['shortening']=='Mr'),'Age']=33\n",
    "titanic_df.loc[(titanic_df['Age'].isnull())&(titanic_df['shortening']=='Mrs'),'Age']=36\n",
    "titanic_df.loc[(titanic_df['Age'].isnull())&(titanic_df['shortening']=='Master'),'Age']=5\n",
    "titanic_df.loc[(titanic_df['Age'].isnull())&(titanic_df['shortening']=='Miss'),'Age']=22\n",
    "titanic_df.loc[(titanic_df['Age'].isnull())&(titanic_df['shortening']=='Other'),'Age']=46\n",
    "print('Data Null : ', titanic_df['Age'].isnull().sum())"
   ]
  },
  {
   "cell_type": "code",
   "execution_count": 265,
   "id": "8e027698",
   "metadata": {},
   "outputs": [
    {
     "data": {
      "text/html": [
       "<div>\n",
       "<style scoped>\n",
       "    .dataframe tbody tr th:only-of-type {\n",
       "        vertical-align: middle;\n",
       "    }\n",
       "\n",
       "    .dataframe tbody tr th {\n",
       "        vertical-align: top;\n",
       "    }\n",
       "\n",
       "    .dataframe thead th {\n",
       "        text-align: right;\n",
       "    }\n",
       "</style>\n",
       "<table border=\"1\" class=\"dataframe\">\n",
       "  <thead>\n",
       "    <tr style=\"text-align: right;\">\n",
       "      <th></th>\n",
       "      <th>count</th>\n",
       "      <th>mean</th>\n",
       "      <th>std</th>\n",
       "      <th>min</th>\n",
       "      <th>25%</th>\n",
       "      <th>50%</th>\n",
       "      <th>75%</th>\n",
       "      <th>max</th>\n",
       "    </tr>\n",
       "    <tr>\n",
       "      <th>Sex</th>\n",
       "      <th></th>\n",
       "      <th></th>\n",
       "      <th></th>\n",
       "      <th></th>\n",
       "      <th></th>\n",
       "      <th></th>\n",
       "      <th></th>\n",
       "      <th></th>\n",
       "    </tr>\n",
       "  </thead>\n",
       "  <tbody>\n",
       "    <tr>\n",
       "      <th>female</th>\n",
       "      <td>314.0</td>\n",
       "      <td>27.675159</td>\n",
       "      <td>13.149149</td>\n",
       "      <td>0.75</td>\n",
       "      <td>21.0</td>\n",
       "      <td>25.0</td>\n",
       "      <td>36.0</td>\n",
       "      <td>63.0</td>\n",
       "    </tr>\n",
       "    <tr>\n",
       "      <th>male</th>\n",
       "      <td>577.0</td>\n",
       "      <td>31.021092</td>\n",
       "      <td>13.215679</td>\n",
       "      <td>0.42</td>\n",
       "      <td>23.0</td>\n",
       "      <td>33.0</td>\n",
       "      <td>35.0</td>\n",
       "      <td>80.0</td>\n",
       "    </tr>\n",
       "  </tbody>\n",
       "</table>\n",
       "</div>"
      ],
      "text/plain": [
       "        count       mean        std   min   25%   50%   75%   max\n",
       "Sex                                                              \n",
       "female  314.0  27.675159  13.149149  0.75  21.0  25.0  36.0  63.0\n",
       "male    577.0  31.021092  13.215679  0.42  23.0  33.0  35.0  80.0"
      ]
     },
     "execution_count": 265,
     "metadata": {},
     "output_type": "execute_result"
    }
   ],
   "source": [
    "titanic_df.groupby('Sex')['Age'].describe()"
   ]
  },
  {
   "cell_type": "code",
   "execution_count": 279,
   "id": "fd905672",
   "metadata": {},
   "outputs": [
    {
     "data": {
      "text/plain": [
       "<AxesSubplot:xlabel='Age', ylabel='Count'>"
      ]
     },
     "execution_count": 279,
     "metadata": {},
     "output_type": "execute_result"
    },
    {
     "data": {
      "image/png": "[encoded data removed]",
      "text/plain": [
       "<Figure size 1728x864 with 4 Axes>"
      ]
     },
     "metadata": {
      "needs_background": "light"
     },
     "output_type": "display_data"
    }
   ],
   "source": [
    "f,ax=plt.subplots(2,2,figsize=(24,12))\n",
    "\n",
    "\n",
    "sns.histplot(data=titanic_df[titanic_df['Survived']==1], x=\"Age\", hue=\"Sex\", element=\"step\",ax=ax[0,0])\n",
    "sns.histplot(data=titanic_df[titanic_df['Survived']==0], x=\"Age\", hue=\"Sex\", element=\"step\",ax=ax[0,1])\n",
    "\n",
    "\n",
    "sns.histplot(data=titanic_df[titanic_df['Survived']==1], x=\"Age\", element=\"step\",ax=ax[1,0])\n",
    "sns.histplot(data=titanic_df[titanic_df['Survived']==0], x=\"Age\", element=\"step\",ax=ax[1,1],color='Orange')"
   ]
  },
  {
   "cell_type": "code",
   "execution_count": 267,
   "id": "8d57e999",
   "metadata": {},
   "outputs": [
    {
     "data": {
      "text/plain": [
       "<AxesSubplot:xlabel='Sex', ylabel='Age'>"
      ]
     },
     "execution_count": 267,
     "metadata": {},
     "output_type": "execute_result"
    },
    {
     "data": {
      "image/png": "[encoded data removed]",
      "text/plain": [
       "<Figure size 1296x576 with 3 Axes>"
      ]
     },
     "metadata": {
      "needs_background": "light"
     },
     "output_type": "display_data"
    }
   ],
   "source": [
    "f,ax=plt.subplots(1,3,figsize=(18,8))\n",
    "sns.boxplot(x='Sex',y='Age' ,hue=\"Survived\",data=titanic_df,ax=ax[0])\n",
    "\n",
    "sns.violinplot(x=\"Sex\",y=\"Age\", hue=\"Survived\", data=titanic_df,split=False,ax=ax[1])\n",
    "sns.violinplot(x=\"Sex\",y=\"Age\", hue=\"Survived\", data=titanic_df,split=True,ax=ax[2])\n"
   ]
  },
  {
   "cell_type": "code",
   "execution_count": null,
   "id": "209d89b8",
   "metadata": {},
   "outputs": [],
   "source": []
  },
  {
   "cell_type": "code",
   "execution_count": null,
   "id": "786dd878",
   "metadata": {},
   "outputs": [],
   "source": []
  }
 ],
 "metadata": {
  "kernelspec": {
   "display_name": "Python 3",
   "language": "python",
   "name": "python3"
  },
  "language_info": {
   "codemirror_mode": {
    "name": "ipython",
    "version": 3
   },
   "file_extension": ".py",
   "mimetype": "text/x-python",
   "name": "python",
   "nbconvert_exporter": "python",
   "pygments_lexer": "ipython3",
   "version": "3.8.8"
  }
 },
 "nbformat": 4,
 "nbformat_minor": 5
}
